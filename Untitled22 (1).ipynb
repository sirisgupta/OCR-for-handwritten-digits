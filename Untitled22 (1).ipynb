{
  "nbformat": 4,
  "nbformat_minor": 0,
  "metadata": {
    "colab": {
      "provenance": [],
      "collapsed_sections": []
    },
    "kernelspec": {
      "name": "python3",
      "display_name": "Python 3"
    },
    "language_info": {
      "name": "python"
    }
  },
  "cells": [
    {
      "cell_type": "code",
      "execution_count": null,
      "metadata": {
        "id": "YXoXpycj5E95"
      },
      "outputs": [],
      "source": [
        "from sklearn.datasets import load_digits\n",
        "import pandas as pd "
      ]
    },
    {
      "cell_type": "code",
      "source": [
        "X , y = load_digits(return_X_y=True, as_frame=True)\n",
        "import matplotlib.pyplot as plt\n"
      ],
      "metadata": {
        "id": "EPTlWZPV6CAN"
      },
      "execution_count": null,
      "outputs": []
    },
    {
      "cell_type": "code",
      "source": [
        "import numpy as np\n",
        "from sklearn.svm import SVC"
      ],
      "metadata": {
        "id": "xceCXbRfDskH"
      },
      "execution_count": null,
      "outputs": []
    },
    {
      "cell_type": "code",
      "source": [
        "X=X.to_numpy()\n",
        "y=y.to_numpy()"
      ],
      "metadata": {
        "id": "CwJsFpFsGSGC"
      },
      "execution_count": null,
      "outputs": []
    },
    {
      "cell_type": "code",
      "source": [
        "from sklearn.model_selection import train_test_split\n",
        "from sklearn.model_selection import GridSearchCV"
      ],
      "metadata": {
        "id": "svUUYcl86k7H"
      },
      "execution_count": null,
      "outputs": []
    },
    {
      "cell_type": "code",
      "source": [
        "X_train , X_test , y_train , y_test = train_test_split(X,y, test_size=0.3,random_state=0)"
      ],
      "metadata": {
        "id": "Wth-TDh-KYiD"
      },
      "execution_count": null,
      "outputs": []
    },
    {
      "cell_type": "code",
      "source": [
        "svc=SVC(kernel='rbf',gamma='auto')\n",
        "param_grid = {'kernel': ['linear', 'rbf', 'sigmoid'], 'C': [1,15,25]}\n",
        "svc_grid = GridSearchCV(svc, param_grid=param_grid, cv=5)"
      ],
      "metadata": {
        "id": "9jzrTfPKLR7o"
      },
      "execution_count": null,
      "outputs": []
    },
    {
      "cell_type": "code",
      "source": [
        "svc_grid.fit(X_train, y_train)\n",
        "svc_grid.best_estimator_.fit(X_train,y_train)"
      ],
      "metadata": {
        "colab": {
          "base_uri": "https://localhost:8080/"
        },
        "id": "bfhYlvLoZRtF",
        "outputId": "7a65b5a8-17e6-44f1-e49f-411f3fb915a9"
      },
      "execution_count": null,
      "outputs": [
        {
          "output_type": "execute_result",
          "data": {
            "text/plain": [
              "SVC(C=1, gamma='auto', kernel='linear')"
            ]
          },
          "metadata": {},
          "execution_count": 51
        }
      ]
    },
    {
      "cell_type": "code",
      "source": [
        "svc1=SVC(C=1, gamma='auto', kernel='linear')"
      ],
      "metadata": {
        "id": "GXGL4p4WZiRG"
      },
      "execution_count": null,
      "outputs": []
    },
    {
      "cell_type": "code",
      "source": [
        "svc1.fit(X_train,y_train)\n",
        "y_hat_test=svc1.predict(X_test)"
      ],
      "metadata": {
        "id": "Dt8zcGmZanGX"
      },
      "execution_count": null,
      "outputs": []
    },
    {
      "cell_type": "code",
      "source": [
        "from sklearn.metrics import confusion_matrix,ConfusionMatrixDisplay\n",
        "ConfusionMatrixDisplay?"
      ],
      "metadata": {
        "id": "oHgfwEZceOd3"
      },
      "execution_count": null,
      "outputs": []
    },
    {
      "cell_type": "code",
      "source": [
        "cm = confusion_matrix(y_test, y_hat_test, labels=svc1.classes_)"
      ],
      "metadata": {
        "id": "XmTCZk8xe8et"
      },
      "execution_count": null,
      "outputs": []
    },
    {
      "cell_type": "code",
      "source": [
        "disp = ConfusionMatrixDisplay(confusion_matrix=cm,display_labels=svc1.classes_)"
      ],
      "metadata": {
        "id": "Ob3b3v-liMrM"
      },
      "execution_count": null,
      "outputs": []
    },
    {
      "cell_type": "code",
      "source": [
        "disp.plot()\n",
        "plt.show()"
      ],
      "metadata": {
        "colab": {
          "base_uri": "https://localhost:8080/",
          "height": 279
        },
        "id": "1ayRDyFziTJu",
        "outputId": "777a089a-5b40-4108-e874-102608dc8e7a"
      },
      "execution_count": null,
      "outputs": [
        {
          "output_type": "display_data",
          "data": {
            "text/plain": [
              "<Figure size 432x288 with 2 Axes>"
            ],
            "image/png": "[encoded data removed]"
          },
          "metadata": {
            "needs_background": "light"
          }
        }
      ]
    }
  ]
}